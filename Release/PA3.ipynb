{
 "cells": [
  {
   "cell_type": "markdown",
   "metadata": {},
   "source": [
    "# Part 0: Introduction and Imports"
   ]
  },
  {
   "cell_type": "markdown",
   "metadata": {},
   "source": [
    "This project guides you through the general pipeline used to build and train a convolutional neural network (CNN) for an image classification task. You'll be implementing data augmentation, improving upon a baseline model, and trying to fool your CNN with adversarial images.\n",
    "\n",
    "\n",
    "We will be using a library called PyTorch which simplifies many of the low-level implementation details of neural networks for us, so that we can focus on the high-level deep learning concepts."
   ]
  },
  {
   "cell_type": "markdown",
   "metadata": {},
   "source": [
    "### New to Jupyter notebooks?\n",
    "Check out this [quick video introduction](https://www.youtube.com/watch?v=jZ952vChhuI) to Jupyter notebooks before starting, and feel free to post on Piazza if you run into any issues.\n",
    "\n",
    "### Using this notebook\n",
    "This notebook will walk you through the different parts of the assignment, with detailed instructions and explanations at every step. You'll see red <font color=\"red\">TODO [code]</font> for things you need to write in `student.py`, and red <font color=\"red\">TODO [writeup]</font> for things you need to answer in your writeup. Please write the answers for <font color=\"red\">TODO [writeup]</font> in the same document as the questions for image formation, camera calibration, and stereo.\n",
    "\n",
    "\n",
    "### Your code\n",
    "Once again, **all of your code needs to be written in `student.py`, and not in this notebook!** We will not grade any code written in this notebook (since you will not be submitting it); this notebook is meant to serve as a central tool that you can use to run your code and visualize your outputs. It also contains detailed explanations at every step to guide you. If anything is unclear, please post on Piazza!\n",
    "\n",
    "\n",
    "### Python version\n",
    "The top-right of this notebook should display a Python version; please make sure that it says Python 3 before proceeding!"
   ]
  },
  {
   "cell_type": "code",
   "execution_count": 2,
   "metadata": {},
   "outputs": [],
   "source": [
    "%load_ext autoreload\n",
    "%autoreload 1\n",
    "%matplotlib inline\n",
    "%aimport student\n",
    "# Imports\n",
    "\n",
    "import numpy as np\n",
    "import sys\n",
    "import os\n",
    "from skimage import io\n",
    "from datetime import datetime\n",
    "\n",
    "import matplotlib\n",
    "from matplotlib import pyplot as plt\n",
    "\n",
    "\n",
    "import torch\n",
    "import torch.nn as nn\n",
    "import torch.optim as optim\n",
    "import torch.nn.functional as F\n",
    "from torch.utils.data import DataLoader, Dataset\n",
    "from torchvision import transforms, datasets\n",
    "\n",
    "\n",
    "# Constants\n",
    "classes = [\n",
    "     'bighorn-sheep',\n",
    "     'bison',\n",
    "     'black-stork',\n",
    "     'brown-bear',\n",
    "     'bullfrog',\n",
    "     'camel',\n",
    "     'gazelle',\n",
    "     'golden-retriever',\n",
    "     'goldfish',\n",
    "     'ladybug',\n",
    "     'lion',\n",
    "     'orangutan',\n",
    "     'penguin',\n",
    "     'persian-cat',\n",
    "     'pig',\n",
    "     'puma'\n",
    "]\n"
   ]
  },
  {
   "cell_type": "markdown",
   "metadata": {},
   "source": [
    "# Part 1: Reading the data"
   ]
  },
  {
   "cell_type": "markdown",
   "metadata": {},
   "source": [
    "### Step 1: Unpacking the dataset\n",
    "\n",
    "Unzip the `data.zip` file. You should now have a folder called `data` with this structure:\n",
    "\n",
    "```\n",
    "data/\n",
    "    train/\n",
    "        bighorn-sheep/\n",
    "            XXXX.JPEG\n",
    "        goldfish/\n",
    "            XXXX.JPEG\n",
    "        ...\n",
    "    val/\n",
    "        bighorn-sheep/\n",
    "            XXXX.JPEG\n",
    "        goldfish/\n",
    "            XXXX.JPEG\n",
    "        ...\n",
    "```\n",
    "\n",
    "The names of the actual images (`XXXX.JPEG` in the diagram above) don't matter - only the folder structure matters, where the names of the folders under `train/` and `val/` correspond to the class names.\n",
    "\n",
    "**Data summary:**\n",
    "There are 16 classes, each with 500 training images and 50 validation images. Each image is 64x64 with 3 channels.\n",
    "\n",
    "The classes are the following:\n",
    "```\n",
    "bighorn-sheep\n",
    "bison\n",
    "black-stork\n",
    "brown-bear\n",
    "bullfrog\n",
    "camel\n",
    "gazelle\n",
    "golden-retriever\n",
    "goldfish\n",
    "ladybug\n",
    "lion\n",
    "orangutan\n",
    "penguin\n",
    "persian-cat\n",
    "pig\n",
    "puma\n",
    "```\n"
   ]
  },
  {
   "cell_type": "markdown",
   "metadata": {
    "collapsed": true
   },
   "source": [
    "### Step 2: A quick sanity check...\n",
    "Before training any machine learning model, it's important to fully understand the data that is being dealt with. What does it look like, and does it match our expectations? In this part, we'll run code that looks into the dataset and shows us what it contains.\n",
    "\n",
    "To help with this, we have first defined a `show_image` function that takes an array as input and visualizes it as an image (as long as it is shaped like an image)."
   ]
  },
  {
   "cell_type": "code",
   "execution_count": 3,
   "metadata": {},
   "outputs": [],
   "source": [
    "def show_image(data):\n",
    "    '''\n",
    "    Given an image-like array, plot it as an image.\n",
    "    \n",
    "    Parameters:\n",
    "        data: a numpy array shaped like an image (could be RGB or grayscale)\n",
    "    '''\n",
    "    plt.imshow(data, interpolation='nearest')\n",
    "    plt.show()"
   ]
  },
  {
   "cell_type": "code",
   "execution_count": 4,
   "metadata": {},
   "outputs": [],
   "source": [
    "def get_N_images(N, class_name, root_folder):\n",
    "    \"\"\"\n",
    "    Returns N images from [class_string] class under [root_folder]\n",
    "    \n",
    "    Inputs:\n",
    "        N             scalar; number of images to return\n",
    "        \n",
    "        class_name    string; name of class to get images from.\n",
    "                      Must be name of a folder under root_folder\n",
    "                      where images of the class are held.\n",
    "                      \n",
    "        root_folder   string; relative path to folder containing subfolders\n",
    "                      with image classes.\n",
    "                      \n",
    "                      Example structure:\n",
    "                      root_folder/\n",
    "                          class_x/\n",
    "                              XXX.JPEG\n",
    "    Returns:\n",
    "        images        length N list of numpy arrays of images of class [class_name]\n",
    "    \"\"\"\n",
    "    images = []\n",
    "    for root, dir, files in os.walk(root_folder):\n",
    "        if root.split(os.sep)[-1] == class_name:\n",
    "            for i, file in enumerate(files):\n",
    "                if file.endswith('.JPEG'):\n",
    "                    images.append(plt.imread(os.path.join(root,file)))\n",
    "                if i+1 == N:\n",
    "                    return images\n"
   ]
  },
  {
   "cell_type": "code",
   "execution_count": 5,
   "metadata": {},
   "outputs": [
    {
     "name": "stdout",
     "output_type": "stream",
     "text": [
      "Visualizing class: pig\n"
     ]
    },
    {
     "data": {
      "image/png": "[encoded data removed]",
      "text/plain": [
       "<Figure size 432x288 with 1 Axes>"
      ]
     },
     "metadata": {
      "needs_background": "light"
     },
     "output_type": "display_data"
    },
    {
     "data": {
      "image/png": "[encoded data removed]",
      "text/plain": [
       "<Figure size 432x288 with 1 Axes>"
      ]
     },
     "metadata": {
      "needs_background": "light"
     },
     "output_type": "display_data"
    },
    {
     "data": {
      "image/png": "[encoded data removed]",
      "text/plain": [
       "<Figure size 432x288 with 1 Axes>"
      ]
     },
     "metadata": {
      "needs_background": "light"
     },
     "output_type": "display_data"
    },
    {
     "data": {
      "image/png": "[encoded data removed]",
      "text/plain": [
       "<Figure size 432x288 with 1 Axes>"
      ]
     },
     "metadata": {
      "needs_background": "light"
     },
     "output_type": "display_data"
    },
    {
     "data": {
      "image/png": "[encoded data removed]",
      "text/plain": [
       "<Figure size 432x288 with 1 Axes>"
      ]
     },
     "metadata": {
      "needs_background": "light"
     },
     "output_type": "display_data"
    }
   ],
   "source": [
    "N = 5\n",
    "class_name = 'pig'\n",
    "folder     = os.path.join('.', 'data', 'train')\n",
    "images     = get_N_images(N, class_name, folder)\n",
    "\n",
    "print(\"Visualizing class: {}\".format(class_name))\n",
    "for i in range(N):\n",
    "    show_image(images[i])"
   ]
  },
  {
   "cell_type": "markdown",
   "metadata": {},
   "source": [
    "### Step 3: Normalize data\n",
    "\n",
    "Normalizing the data means getting the features in a similar range of values. This is an important step in your CNN pipeline. Making the features (here, pixels) in a similar data distribution helps the model converge.\n",
    "\n",
    "We've already looped through the training dataset and found the channel-wise means and standard deviations for you. We've divided them by 255, since the PyTorch Tensors have values between [0,1]. The images are normalized by subtracting the means and dividing by the standard deviations.  \n",
    "\n",
    "PyTorch has an easy method for integrating normalization into your machine learning pipeline - you create \n",
    "[transforms](https://pytorch.org/docs/master/torchvision/transforms.html?highlight=transform), which are just different data manipulations you can chain together. Before you pass an image to your model, it's fed through the transform first.\n",
    "\n",
    "The transform below converts the images into the correct format and then applies the normalization."
   ]
  },
  {
   "cell_type": "code",
   "execution_count": 6,
   "metadata": {},
   "outputs": [],
   "source": [
    "dataset_means = [123./255., 116./255.,  97./255.]\n",
    "dataset_stds  = [ 54./255.,  53./255.,  52./255.]\n",
    "\n",
    "\n",
    "transform = transforms.Compose([\n",
    "            transforms.ToPILImage(),\n",
    "            transforms.ToTensor(),\n",
    "            transforms.Normalize(dataset_means, dataset_stds)\n",
    "        ])"
   ]
  },
  {
   "cell_type": "markdown",
   "metadata": {},
   "source": [
    "###  Create Dataset and DataLoader for PyTorch model\n",
    "The model we will soon create in PyTorch needs a way of understanding our dataset folder structure.\n",
    "\n",
    "This has 2 steps:\n",
    "\n",
    "1. Define a **[Dataset](https://pytorch.org/docs/master/data.html#torch.utils.data.Dataset)**\n",
    "    - Tells the model where your data is and how to access it\n",
    "    - Requires `__getitem__` function, which tells your model how to grab an image and label when needed\n",
    "    - Requires `__len__` function, which returns the size of the dataset\n",
    "    \n",
    "   &nbsp; \n",
    "2. Define a **[DataLoader](https://pytorch.org/docs/master/data.html#torch.utils.data.DataLoader)**\n",
    "    - Tells the model how to sample from the dataset\n",
    "    - Defines the _batch size_, which is the number of images propagated through the network during one forward pass before a gradient update\n",
    "\n",
    "Run the cell below to create a class `AnimalDataset` which implements the required functions.\n",
    "Then, run the following cell to create a Dataset and DataLoader for both train and validation sets."
   ]
  },
  {
   "cell_type": "code",
   "execution_count": 7,
   "metadata": {},
   "outputs": [],
   "source": [
    "class AnimalDataset(Dataset):\n",
    "    def __init__(self, root_dir, classes, transform=None):\n",
    "        \"\"\"\n",
    "        Args:\n",
    "            root_dir (string):\n",
    "                Directory with all the images.\n",
    "                Of the form:\n",
    "                root_dir/\n",
    "                    <class_XX>/\n",
    "                        <XXXX>.JPEG\n",
    "                        ...\n",
    "                    <class_XX>/\n",
    "                        <XXXX>.JPEG\n",
    "                        ...\n",
    "                where <class_XX> is replaced with the class name, and <XXXX>.JPEG\n",
    "                are the images. Must be .JPEG extension.\n",
    "                \n",
    "            classes (list of strings): list of class names, same as names of\n",
    "                subfolders under root_dir\n",
    "                \n",
    "            transform (callable, optional): Optional transform to be applied\n",
    "                on a sample.\n",
    "                \n",
    "        \"\"\"\n",
    "        self.root_dir = root_dir\n",
    "        self.classes = classes\n",
    "        self.transform = transform\n",
    "\n",
    "        self.raw_data = []\n",
    "        for i, cl in enumerate(self.classes):\n",
    "            for root, directory, files in os.walk(os.path.join(root_dir, cl)):\n",
    "                for file in files:\n",
    "                    if '.JPEG' in file:\n",
    "                        self.raw_data.append((os.path.join(root, file), i))\n",
    "\n",
    "    def __len__(self):\n",
    "        return len(self.raw_data)\n",
    "\n",
    "    def __getitem__(self, idx):\n",
    "        if type(idx) == torch.Tensor:\n",
    "            idx = idx.item()\n",
    "        \n",
    "        image_path, label = (self.raw_data[idx])\n",
    "        image = io.imread(image_path)\n",
    "        image = self.transform(image)\n",
    "        label = torch.tensor([label], dtype=torch.long)\n",
    "        return image, label"
   ]
  },
  {
   "cell_type": "code",
   "execution_count": 8,
   "metadata": {},
   "outputs": [],
   "source": [
    "BATCH_SIZE = 128\n",
    "\n",
    "train_dataset = AnimalDataset(os.path.join('.', 'data', 'train'),classes, transform=transform)\n",
    "val_dataset   = AnimalDataset(os.path.join('.', 'data', 'val'),  classes, transform=transform)\n",
    "\n",
    "train_dataloader = DataLoader(train_dataset, batch_size=BATCH_SIZE, shuffle=True)\n",
    "val_dataloader   = DataLoader(val_dataset,   batch_size=BATCH_SIZE, shuffle=True)"
   ]
  },
  {
   "cell_type": "code",
   "execution_count": null,
   "metadata": {},
   "outputs": [],
   "source": []
  },
  {
   "cell_type": "markdown",
   "metadata": {},
   "source": [
    "### **<font color='red'>TODO [writeup] 1: </font>** \n",
    "Why is it important to have separate train and validation sets? What might happen if you _don't_ have a validation set?\n",
    "\n",
    "It is important to have separate train and validation sets because the model needs to be evaluated in some way, and so seeing how it does on a clean data set is essential. If the sets are not separate, then the validation set will be biased and the model will probably look better than it actually is. If you don't have a validation set at all, you will not be able to tell if your model does well on data it has never seen before."
   ]
  },
  {
   "cell_type": "markdown",
   "metadata": {},
   "source": [
    "# Part 2: Fitting the data"
   ]
  },
  {
   "cell_type": "markdown",
   "metadata": {},
   "source": [
    "### High-Level Overview\n",
    "Now, we will attempt to fit the data using a convolutional neural network. This network will learn to classify input images into one of the 16 animal categories, based on the training data that we provide to it. We will use our validation dataset to get a sense of how the network performs on unseen data."
   ]
  },
  {
   "cell_type": "markdown",
   "metadata": {},
   "source": [
    "### Create a baseline model\n",
    "Below we have defined a baseline model, which you will improve on in a later part of this project. There are two parts to defining a model:\n",
    "\n",
    "1. `__init__`: Define the **layers** of your network. Check out torch.nn documentation for pre-implemented layers.\n",
    "\n",
    "    &nbsp;\n",
    "2. `forward`: Chains together the layers you defined in `__init__`, creating the **pipeline** for a forward pass (i.e. where the image goes when you feed it to the network). In our baseline, the image passes through a series of **convolution** layers followed by **ReLU** (Rectified Linear Unit) nonlinearities, followed by a couple **fully connected** layers.\n",
    "\n",
    "### **<font color='red'>TODO [code]: </font>** \n",
    "\n",
    "Implement the baseline model architecture in `student.py`. The architecture is the following:\n",
    "- **conv1**: convolution layer with 6 output channels, kernel size of 3, stride of 2, padding of 1\n",
    "- **ReLU** nonlinearity\n",
    "- **conv2**: convolution layer with 12 output channels, kernel size of 3, stride of 2, padding of 1\n",
    "- **ReLU** nonlinearity\n",
    "- **conv3**: convolution layer with 24 output channels, kernel size of 3, stride of 2, padding of 1\n",
    "- **ReLU** nonlinearity\n",
    "- **fc**:    fully connected layer with 128 output features\n",
    "- **ReLU** nonlinearity\n",
    "- **cls**:   fully connected layer with 16 output features (the number of classes)\n",
    "\n",
    "\n",
    "\n",
    "The feature map sizes in this case are calculated by dividing the input size by the _stride_ (how many pixels you slide the kernel over each time you do a convolution). For example, we started with a 64 x 64 image, passed it through the `conv1` layer with a stride of 2, giving an output size of 32 x 32. When you create your own model, it's important to pay attention to these sizes. You'll need to figure out the dimensions to the first Linear layer, which needs an input size equal to the number of pixels in your Tensor by that point in the network.\n"
   ]
  },
  {
   "cell_type": "markdown",
   "metadata": {},
   "source": [
    "To verify that we added the correct layers above, we can **load the pretrained weights** into the architecture. The weights file essentially holds a dictionary, where the keys are the layer names and the values are the parameter weights. If your architecture is correct, you should be able to print the network and see the layers.\n",
    "\n",
    "**Please define the forward pass manually rather than using nn.Sequential. Otherwise, the pretrained model weights won't load correctly.**\n",
    "\n",
    "You'll have to create your own model, so make sure you understand the baseline architecture before proceeding!"
   ]
  },
  {
   "cell_type": "code",
   "execution_count": 19,
   "metadata": {},
   "outputs": [
    {
     "ename": "RuntimeError",
     "evalue": "Error(s) in loading state_dict for AnimalBaselineNet:\n\tsize mismatch for fc.weight: copying a param with shape torch.Size([128, 1536]) from checkpoint, the shape in current model is torch.Size([129, 24]).\n\tsize mismatch for fc.bias: copying a param with shape torch.Size([128]) from checkpoint, the shape in current model is torch.Size([129]).",
     "output_type": "error",
     "traceback": [
      "\u001b[0;31m-------------------------------------------------------------------\u001b[0m",
      "\u001b[0;31mRuntimeError\u001b[0m                      Traceback (most recent call last)",
      "\u001b[0;32m<ipython-input-19-c71a3bc2ea18>\u001b[0m in \u001b[0;36m<module>\u001b[0;34m\u001b[0m\n\u001b[1;32m      5\u001b[0m \u001b[0;31m# Load pretrained weights into network to check if architecture is correct\u001b[0m\u001b[0;34m\u001b[0m\u001b[0;34m\u001b[0m\u001b[0;34m\u001b[0m\u001b[0m\n\u001b[1;32m      6\u001b[0m \u001b[0mweights_path\u001b[0m \u001b[0;34m=\u001b[0m \u001b[0mos\u001b[0m\u001b[0;34m.\u001b[0m\u001b[0mpath\u001b[0m\u001b[0;34m.\u001b[0m\u001b[0mjoin\u001b[0m\u001b[0;34m(\u001b[0m\u001b[0;34m'.'\u001b[0m\u001b[0;34m,\u001b[0m \u001b[0;34m'models'\u001b[0m\u001b[0;34m,\u001b[0m \u001b[0;34m'baseline.pth'\u001b[0m\u001b[0;34m)\u001b[0m\u001b[0;34m\u001b[0m\u001b[0;34m\u001b[0m\u001b[0m\n\u001b[0;32m----> 7\u001b[0;31m \u001b[0mnet_pretrained\u001b[0m\u001b[0;34m.\u001b[0m\u001b[0mload_state_dict\u001b[0m\u001b[0;34m(\u001b[0m\u001b[0mtorch\u001b[0m\u001b[0;34m.\u001b[0m\u001b[0mload\u001b[0m\u001b[0;34m(\u001b[0m\u001b[0mweights_path\u001b[0m\u001b[0;34m,\u001b[0m \u001b[0mmap_location\u001b[0m\u001b[0;34m=\u001b[0m\u001b[0;34m\"cpu\"\u001b[0m\u001b[0;34m)\u001b[0m\u001b[0;34m)\u001b[0m\u001b[0;34m\u001b[0m\u001b[0;34m\u001b[0m\u001b[0m\n\u001b[0m\u001b[1;32m      8\u001b[0m \u001b[0;34m\u001b[0m\u001b[0m\n\u001b[1;32m      9\u001b[0m \u001b[0;32mfor\u001b[0m \u001b[0mlayer\u001b[0m \u001b[0;32min\u001b[0m \u001b[0mnet_pretrained\u001b[0m\u001b[0;34m.\u001b[0m\u001b[0mchildren\u001b[0m\u001b[0;34m(\u001b[0m\u001b[0;34m)\u001b[0m\u001b[0;34m:\u001b[0m\u001b[0;34m\u001b[0m\u001b[0;34m\u001b[0m\u001b[0m\n",
      "\u001b[0;32m~/anaconda3/lib/python3.7/site-packages/torch/nn/modules/module.py\u001b[0m in \u001b[0;36mload_state_dict\u001b[0;34m(self, state_dict, strict)\u001b[0m\n\u001b[1;32m    845\u001b[0m         \u001b[0;32mif\u001b[0m \u001b[0mlen\u001b[0m\u001b[0;34m(\u001b[0m\u001b[0merror_msgs\u001b[0m\u001b[0;34m)\u001b[0m \u001b[0;34m>\u001b[0m \u001b[0;36m0\u001b[0m\u001b[0;34m:\u001b[0m\u001b[0;34m\u001b[0m\u001b[0;34m\u001b[0m\u001b[0m\n\u001b[1;32m    846\u001b[0m             raise RuntimeError('Error(s) in loading state_dict for {}:\\n\\t{}'.format(\n\u001b[0;32m--> 847\u001b[0;31m                                self.__class__.__name__, \"\\n\\t\".join(error_msgs)))\n\u001b[0m\u001b[1;32m    848\u001b[0m         \u001b[0;32mreturn\u001b[0m \u001b[0m_IncompatibleKeys\u001b[0m\u001b[0;34m(\u001b[0m\u001b[0mmissing_keys\u001b[0m\u001b[0;34m,\u001b[0m \u001b[0munexpected_keys\u001b[0m\u001b[0;34m)\u001b[0m\u001b[0;34m\u001b[0m\u001b[0;34m\u001b[0m\u001b[0m\n\u001b[1;32m    849\u001b[0m \u001b[0;34m\u001b[0m\u001b[0m\n",
      "\u001b[0;31mRuntimeError\u001b[0m: Error(s) in loading state_dict for AnimalBaselineNet:\n\tsize mismatch for fc.weight: copying a param with shape torch.Size([128, 1536]) from checkpoint, the shape in current model is torch.Size([129, 24]).\n\tsize mismatch for fc.bias: copying a param with shape torch.Size([128]) from checkpoint, the shape in current model is torch.Size([129])."
     ]
    }
   ],
   "source": [
    "%aimport student\n",
    "\n",
    "net_pretrained = student.AnimalBaselineNet()\n",
    "\n",
    "# Load pretrained weights into network to check if architecture is correct\n",
    "weights_path = os.path.join('.', 'models', 'baseline.pth')\n",
    "net_pretrained.load_state_dict(torch.load(weights_path, map_location=\"cpu\"))\n",
    "\n",
    "for layer in net_pretrained.children():\n",
    "    print(layer)\n"
   ]
  },
  {
   "cell_type": "markdown",
   "metadata": {},
   "source": [
    "###  Train the model\n",
    "\n",
    "Great, we have our model and our data! There's two more steps before we can train:\n",
    "- Decide what **loss function** you need. Here, we use [_cross entropy loss_](https://pytorch.org/docs/master/nn.html#crossentropyloss), typical for image classification.\n",
    "- Decide how many **epochs** you will train your model for. One epoch means one pass of the full training dataset through your model. Here, we set it to 30. When you train your own model, you'll have to keep track of the losses to decide when to stop.\n",
    "- Decide what **optimizer** you will use. An optimizer tells your model how to take steps along the gradient to try and reach a minimum. Here, we use the popular _Adam optimizer_ (if you're curious, here's the [paper](https://arxiv.org/pdf/1412.6980.pdf)). It adapts the learning rates for each parameter based on how quickly each parameter's gradient is changing. It's known as being more forgiving for less-than-optimal hyperparameter choices than other optimizers are.\n",
    "\n",
    "We also redefine the network to start from scratch, rather than loading in pretrained weights.\n"
   ]
  },
  {
   "cell_type": "code",
   "execution_count": null,
   "metadata": {},
   "outputs": [],
   "source": [
    "%aimport student\n",
    "\n",
    "net = student.AnimalBaselineNet()\n",
    "\n",
    "criterion = nn.CrossEntropyLoss() \n",
    "optimizer = optim.Adam(net.parameters(), lr = 0.01)\n",
    "epochs = 30"
   ]
  },
  {
   "cell_type": "markdown",
   "metadata": {},
   "source": [
    "Time to train! For each epoch, the model does a forward and backward pass for training, and then just a forward pass for validation. But what are forward and backward passes?\n",
    "\n",
    "- **Forward pass**: sends a batch of images through the network. Returns the output of the last linear layer, which has 16 values: each value is the negative log-likelihood that the image belongs to that particular class.\n",
    "- **Backward pass**: calculates the loss and the gradient of the loss with respect to the model parameters. Optimizer updates the weights based on this gradient.\n",
    "\n",
    "During training, we keep track of the loss and accuracy for both training & validation phases so we can visualize our model performance after it's done.\n",
    "\n",
    "### **<font color='red'>TODO [code]: </font>** \n",
    "Implement the `model_train` function in `student.py`. We will be running your `model_train` with your `AnimalBaselineNet` to check accuracy.\n",
    "\n",
    "### **<font color='red'>TODO [writeup] 2a: </font>** \n",
    "Include the plots generated from training the baseline model from scratch (i.e., without loading in pretrained weights). What do you notice about the train vs. validation performance? What might this mean about the model?\n"
   ]
  },
  {
   "cell_type": "code",
   "execution_count": null,
   "metadata": {},
   "outputs": [],
   "source": [
    "def log_progress(curr_batch, batch_size, curr_epoch, total_epochs, dataloader):\n",
    "    \"\"\"\n",
    "    Prints message logging progress through training.\n",
    "    \"\"\"\n",
    "    progress = float(curr_batch + 1)/(float(len(dataloader.dataset)) / batch_size)\n",
    "    log = \"EPOCH [{}/{}].Progress: {} % \".format(\n",
    "        curr_epoch + 1, total_epochs, round(progress * 100, 2))\n",
    "    sys.stdout.write(\"\\r\" + log)\n",
    "    sys.stdout.flush()"
   ]
  },
  {
   "cell_type": "code",
   "execution_count": null,
   "metadata": {
    "scrolled": true
   },
   "outputs": [],
   "source": [
    "%aimport student\n",
    "\n",
    "# Keep track of average losses, training accuracy and validation accuracy for each epoch\n",
    "train_loss_history = np.zeros(epochs)\n",
    "train_acc_history  = np.zeros(epochs)\n",
    "val_loss_history   = np.zeros(epochs)\n",
    "val_acc_history    = np.zeros(epochs)\n",
    "\n",
    "start_time = datetime.now()\n",
    "\n",
    "for epoch in range(epochs):\n",
    "    \n",
    "     # ============================ Training ==============================\n",
    "    print(\"Training...\")\n",
    "    \n",
    "    # Place network in training mode\n",
    "    net.train()\n",
    "    \n",
    "    # Initialize running epoch loss and number correctly classified\n",
    "    running_loss   = 0.0\n",
    "    num_correct    = 0.0\n",
    "    total_images   = 0.0\n",
    "    \n",
    "    \n",
    "    for batch_num, (inputs, labels) in enumerate(train_dataloader):\n",
    "        # [inputs] and [labels] is one batch of images and their classes\n",
    "\n",
    "        log_progress(batch_num, BATCH_SIZE, epoch, epochs, train_dataloader)\n",
    "        \n",
    "        # Function call to student\n",
    "        curr_loss, curr_correct, curr_images = \\\n",
    "            student.model_train(net, inputs, labels, criterion, optimizer)\n",
    "        running_loss += curr_loss\n",
    "        num_correct += curr_correct\n",
    "        total_images += curr_images\n",
    "\n",
    "    # Update statistics for epoch\n",
    "    train_loss_history[epoch] = running_loss / total_images\n",
    "    train_acc_history[epoch]  = float(num_correct)  / float(total_images)\n",
    "    print(\"\\n Train Avg. Loss: [{}] Acc: {} on {} images\\n\".format(\n",
    "          round(train_loss_history[epoch],4), train_acc_history[epoch], total_images) )\n",
    "    \n",
    "    # ============================ Validation ==============================\n",
    "    print(\"Validating...\")\n",
    "    # Place network in testing mode (won't need to keep track of gradients)\n",
    "    net.eval()\n",
    "    \n",
    "    running_loss   = 0.0\n",
    "    num_correct    = 0.0\n",
    "    total_images   = 0.0\n",
    "    \n",
    "    for batch_num, (inputs, labels) in enumerate(val_dataloader):\n",
    "        \n",
    "        # Propagate batch through network\n",
    "        outputs  = net(inputs)\n",
    "                                                 \n",
    "        # Calculate loss\n",
    "        loss     = criterion(outputs, labels.squeeze())\n",
    "                                                 \n",
    "        # Prediction is class with highest class score\n",
    "        _, preds = torch.max(outputs, 1)\n",
    "        \n",
    "        running_loss  += loss.item()\n",
    "        num_correct   += torch.sum(preds == labels.data.reshape(-1))\n",
    "        total_images  += labels.data.numpy().size\n",
    "        \n",
    "    # Update statistics for validation data\n",
    "    val_loss_history[epoch] = running_loss / total_images\n",
    "    val_acc_history[epoch]  = float(num_correct)  / float(total_images) \n",
    "    print(\"Val Avg. Loss: [{}] Acc: {} on {} images\\n\".format(\n",
    "        round(val_loss_history[epoch],4), val_acc_history[epoch], total_images))\n",
    "    \n",
    "print(\"Time Elapsed: {} seconds\".format(\n",
    "    (datetime.now() - start_time).total_seconds()))"
   ]
  },
  {
   "cell_type": "code",
   "execution_count": null,
   "metadata": {},
   "outputs": [],
   "source": [
    "fig, axs = plt.subplots(1, 2, figsize=(11,5))\n",
    "\n",
    "ax = axs[0]\n",
    "ax.set_title(\"Average Losses\", fontsize=20)\n",
    "ax.plot(train_loss_history, label=\"Training\")\n",
    "ax.plot(val_loss_history,   label=\"Validation\")\n",
    "ax.set_xlabel(\"Epoch\",        fontsize=16)\n",
    "ax.set_ylabel(\"Average loss\", fontsize=16)\n",
    "ax.legend(loc=\"best\",         fontsize=16)\n",
    "\n",
    "ax = axs[1]\n",
    "ax.set_title(\"Accuracy\", fontsize=22)\n",
    "ax.plot(train_acc_history, label=\"Training\")\n",
    "ax.plot(val_acc_history,   label=\"Validation\")\n",
    "ax.set_xlabel(\"Epoch\",        fontsize=16)\n",
    "ax.set_ylabel(\"Accuracy\",     fontsize=16)\n",
    "ax.legend(loc=\"best\",         fontsize=16)"
   ]
  },
  {
   "cell_type": "code",
   "execution_count": null,
   "metadata": {},
   "outputs": [],
   "source": [
    "def get_dataloader(transform):\n",
    "    \"\"\"\n",
    "    Returns dataloader for AnimalDataset given input transform, with batch size 1.\n",
    "    \"\"\"\n",
    "    dataset = AnimalDataset(os.path.join('.', 'data', 'val'),  classes, transform=transform)\n",
    "    return DataLoader(dataset, batch_size=1, shuffle=False)"
   ]
  },
  {
   "cell_type": "markdown",
   "metadata": {},
   "source": [
    "### Data Augmentation\n",
    "\n",
    "CNNs often require a large amount of image data in order to generalize well. A useful method for increasing the size of your dataset is called data augmentation.\n",
    "\n",
    "If you have an image of a sheep, you can shift it by a few pixels, rotate it, or change its contrast, and you'll still see an image of a sheep. So, you can **increase the size of your dataset** by applying small changes like these to your images while keeping the same labels.\n",
    "\n",
    "### <font color='red'>TODO [code]</font>:\n",
    "Implement the data augmentation transforms in `student.py`. You can visualize them using the cells below. When you're ready, you can save the resulting image to include in your writeup. Feel free to use anything in scipy, cv2, numpy, or skimage. However, **do not** use functions from torch or torchvision for this data augmentation step!\n",
    "\n",
    "### <font color='red'>TODO [writeup] 2b</font>:\n",
    "Include the plot from below with your images for data augmentation in the writeup. For a sample of correct behavior, look at the provided `data_augmentation_sample.png`. Note that you won't match it exactly since many values are randomized, but you can still see if your code is doing what you expect."
   ]
  },
  {
   "cell_type": "code",
   "execution_count": null,
   "metadata": {},
   "outputs": [],
   "source": [
    "%aimport student\n",
    "\n",
    "# Define display function to convert image to correct format\n",
    "to_pil = transforms.ToPILImage()\n",
    "convert = lambda image: to_pil(image.squeeze())\n",
    "\n",
    "fig, axs = plt.subplots(2, 3, figsize=(15,10))\n",
    "\n",
    "ax = axs[0,0]\n",
    "ax.set_title(\"Original\")\n",
    "transform = transforms.Compose([\n",
    "            transforms.ToPILImage(),\n",
    "            transforms.ToTensor()\n",
    "        ])\n",
    "img, label = next(iter(get_dataloader(transform)))\n",
    "ax.imshow(convert(img))\n",
    "\n",
    "ax = axs[0,1]\n",
    "ax.set_title(\"Constrast\")\n",
    "transform = transforms.Compose([\n",
    "            transforms.ToPILImage(),\n",
    "            transforms.ToTensor(),\n",
    "            student.Contrast(min_contrast=0.3, max_contrast=0.9)\n",
    "        ])\n",
    "img, label = next(iter(get_dataloader(transform)))\n",
    "ax.imshow(convert(img))\n",
    "\n",
    "ax = axs[0,2]\n",
    "ax.set_title(\"Shift\")\n",
    "transform = transforms.Compose([\n",
    "            transforms.ToPILImage(),\n",
    "            transforms.ToTensor(),\n",
    "            student.Shift(max_shift=5)\n",
    "        ])\n",
    "img, label = next(iter(get_dataloader(transform)))\n",
    "ax.imshow(convert(img))\n",
    "\n",
    "ax = axs[1,0]\n",
    "ax.set_title(\"Rotate\")\n",
    "transform = transforms.Compose([\n",
    "            transforms.ToPILImage(),\n",
    "            transforms.ToTensor(),\n",
    "            student.Rotate(max_angle=10)\n",
    "        ])\n",
    "img, label = next(iter(get_dataloader(transform)))\n",
    "ax.imshow(convert(img))\n",
    "\n",
    "ax = axs[1,1]\n",
    "ax.set_title(\"Flip\")\n",
    "transform = transforms.Compose([\n",
    "            transforms.ToPILImage(),\n",
    "            transforms.ToTensor(),\n",
    "            student.HorizontalFlip(p=1)\n",
    "        ])\n",
    "img, label = next(iter(get_dataloader(transform)))\n",
    "ax.imshow(convert(img))\n",
    "\n",
    "\n",
    "ax = axs[1,2]\n",
    "ax.set_title(\"Combination\")\n",
    "transform = transforms.Compose([\n",
    "            transforms.ToPILImage(),\n",
    "            transforms.ToTensor(),\n",
    "            student.Contrast(min_contrast=0.3, max_contrast=0.9),\n",
    "            student.Shift(max_shift=5),\n",
    "            student.Rotate(max_angle=10),\n",
    "            student.HorizontalFlip(p=0.5),\n",
    "        ])\n",
    "img, label = next(iter(get_dataloader(transform)))\n",
    "ax.imshow(convert(img))\n"
   ]
  },
  {
   "cell_type": "markdown",
   "metadata": {},
   "source": [
    "# Part 3: Building a better model\n",
    "\n",
    "Now, it's your turn to build a model. You'll submit your predictions to the Kaggle competition. Your goal: beat the instructor model, while keeping model file size below 5 MB (don't worry, the instructor model follows this restriction too). A few things you can try:\n",
    "- include data augmentation methods in your transform\n",
    "- add pooling\n",
    "- adjust hyperparameters (e.g. batch size, learning rate)\n",
    "- adjust number of epochs\n",
    "\n",
    "\n",
    "### <font color='red'>TODO [code]</font>:\n",
    "In `student.py`, define your own `AnimalStudentNet` model architecture and transform pipeline. We will be running your `model_train` with your `AnimalStudentNet` as well as `get_student_settings` when grading to check consistency with what you submit to Kaggle. Please make sure you follow the following restrictions when building your network. \n",
    "#### Restrictions ####\n",
    "* Model must be below 5 MB\n",
    "* You may not use pretrained models or model architectures from the internet. We are expecting you to build one from scratch. That being said, you may take inspirtation from model architectures found online or in research but you must implement them from scratch and explain your decisions. \n",
    "* You may not use any other dataset than the one provided in the assignment. \n",
    "* You may not use data augmentation functions built into torch. Feel free to use your own or define new ones. \n",
    "* You may not hand-label the test set. \n",
    "* You may not share models between groups. \n",
    "\n",
    "### <font color='red'>TODO [writeup] 3</font>:\n",
    "Include the plots showing your model's loss and accuracy history. Discuss your decisions for your model architecture, as well as `get_student_settings` if you changed the parameters from the baseline. What worked and what didn't? What might be some reasons why?\n"
   ]
  },
  {
   "cell_type": "code",
   "execution_count": null,
   "metadata": {},
   "outputs": [],
   "source": [
    "%aimport student\n",
    "\n",
    "net = student.AnimalStudentNet()\n",
    "transform, batch_size, epochs, criterion, optimizer = student.get_student_settings(net)\n",
    "\n",
    "for layer in net.children():\n",
    "    print(layer)"
   ]
  },
  {
   "cell_type": "code",
   "execution_count": null,
   "metadata": {},
   "outputs": [],
   "source": [
    "train_dataset = AnimalDataset(os.path.join('.', 'data', 'train'),classes, transform=transform)\n",
    "val_dataset   = AnimalDataset(os.path.join('.', 'data', 'val'),  classes, transform=transform)\n",
    "\n",
    "train_dataloader = DataLoader(train_dataset, batch_size=batch_size, shuffle=True)\n",
    "val_dataloader   = DataLoader(val_dataset,   batch_size=batch_size, shuffle=True)"
   ]
  },
  {
   "cell_type": "code",
   "execution_count": null,
   "metadata": {
    "scrolled": true
   },
   "outputs": [],
   "source": [
    "%aimport student\n",
    "\n",
    "# Keep track of average losses, training accuracy and validation accuracy for each epoch\n",
    "train_loss_history = np.zeros(epochs)\n",
    "train_acc_history  = np.zeros(epochs)\n",
    "val_loss_history   = np.zeros(epochs)\n",
    "val_acc_history    = np.zeros(epochs)\n",
    "\n",
    "start_time = datetime.now()\n",
    "\n",
    "for epoch in range(epochs):\n",
    "    \n",
    "     # ============================ Training ==============================\n",
    "    print(\"Training...\")\n",
    "    \n",
    "    # Place network in training mode\n",
    "    net.train()\n",
    "    \n",
    "    # Initialize running epoch loss and number correctly classified\n",
    "    running_loss   = 0.0\n",
    "    num_correct    = 0.0\n",
    "    total_images   = 0.0\n",
    "    \n",
    "    for batch_num, (inputs, labels) in enumerate(train_dataloader):\n",
    "        # [inputs] and [labels] is one batch of images and their classes\n",
    "\n",
    "        log_progress(batch_num, batch_size, epoch, epochs, train_dataloader)\n",
    "        \n",
    "        #  ***** Function call to student *****\n",
    "        curr_loss, curr_correct, curr_images = \\\n",
    "            student.model_train(net, inputs, labels, criterion, optimizer)\n",
    "        running_loss += curr_loss\n",
    "        num_correct += curr_correct\n",
    "        total_images += curr_images\n",
    "\n",
    "    # Update statistics for epoch\n",
    "    train_loss_history[epoch] = running_loss / total_images\n",
    "    train_acc_history[epoch]  = float(num_correct)  / float(total_images)\n",
    "    print(\"\\n Train Avg. Loss: [{}] Acc: {} on {} images\\n\".format(\n",
    "          round(train_loss_history[epoch],4), train_acc_history[epoch], total_images) )\n",
    "    \n",
    "    # ============================ Validation ==============================\n",
    "    print(\"Validating...\")\n",
    "    # Place network in testing mode (won't need to keep track of gradients)\n",
    "    net.eval()\n",
    "    \n",
    "    running_loss   = 0.0\n",
    "    num_correct    = 0.0\n",
    "    total_images   = 0.0\n",
    "    \n",
    "    for batch_num, (inputs, labels) in enumerate(val_dataloader):\n",
    "        \n",
    "        # Propagate batch through network\n",
    "        outputs  = net(inputs)\n",
    "                                                 \n",
    "        # Calculate loss\n",
    "        loss     = criterion(outputs, labels.squeeze())\n",
    "                                                 \n",
    "        # Prediction is class with highest class score\n",
    "        _, preds = torch.max(outputs, 1)\n",
    "        \n",
    "        running_loss  += loss.item()\n",
    "        num_correct   += torch.sum(preds == labels.data.reshape(-1))\n",
    "        total_images  += labels.data.numpy().size\n",
    "        \n",
    "    # Update statistics for validation data\n",
    "    val_loss_history[epoch] = running_loss / total_images\n",
    "    val_acc_history[epoch]  = float(num_correct)  / float(total_images) \n",
    "    print(\"Val Avg. Loss: [{}] Acc: {} on {} images\\n\".format(\n",
    "        round(val_loss_history[epoch],4), val_acc_history[epoch], total_images))\n",
    "    \n",
    "print(\"Time Elapsed: {} seconds\".format(\n",
    "    (datetime.now() - start_time).total_seconds()))"
   ]
  },
  {
   "cell_type": "code",
   "execution_count": null,
   "metadata": {},
   "outputs": [],
   "source": [
    "fig, axs = plt.subplots(1, 2, figsize=(11,5))\n",
    "\n",
    "ax = axs[0]\n",
    "ax.set_title(\"Student Avg Losses\", fontsize=20)\n",
    "ax.plot(train_loss_history, label=\"Training\")\n",
    "ax.plot(val_loss_history,   label=\"Validation\")\n",
    "ax.set_xlabel(\"Epoch\",        fontsize=16)\n",
    "ax.set_ylabel(\"Average loss\", fontsize=16)\n",
    "ax.legend(loc=\"best\",         fontsize=16)\n",
    "\n",
    "ax = axs[1]\n",
    "ax.set_title(\"Student Accuracy\", fontsize=22)\n",
    "ax.plot(train_acc_history, label=\"Training\")\n",
    "ax.plot(val_acc_history,   label=\"Validation\")\n",
    "ax.set_xlabel(\"Epoch\",        fontsize=16)\n",
    "ax.set_ylabel(\"Accuracy\",     fontsize=16)\n",
    "ax.legend(loc=\"best\",         fontsize=16)"
   ]
  },
  {
   "cell_type": "markdown",
   "metadata": {},
   "source": [
    "#### Saving the Model####\n",
    "If you would like to save your model after you have trained it for later use (like in the kaggle notebook). Please use torch.save as below. This will save your model as 'my_model_name.pth' in the models folder. Feel free to modify the name. "
   ]
  },
  {
   "cell_type": "code",
   "execution_count": null,
   "metadata": {
    "scrolled": true
   },
   "outputs": [],
   "source": [
    "torch.save(net.state_dict(), os.path.join('.','models','my_model_name.pth'))"
   ]
  },
  {
   "cell_type": "markdown",
   "metadata": {},
   "source": [
    "# Part 4: Adversarial Examples"
   ]
  },
  {
   "cell_type": "markdown",
   "metadata": {},
   "source": [
    "Convolutional neural networks are extremely powerful models when it comes to images; today, they are used extensively in drug discovery, disease detection, self-driving cars, and more. However, they are far from perfect. Turns out, these networks can be tricked very easily, using the concept of _adversarial examples_. In this part, we will generate adversarial examples to trick our own model."
   ]
  },
  {
   "cell_type": "markdown",
   "metadata": {},
   "source": [
    "#### High-Level Overview\n",
    "We start with an image, $I$, that is classified correctly as class $C$. Our objective is to **manipulate the image** $I$ by adding **small changes** to it which would make the network **misclassify** the image. We can do so by observing the gradients produced within the model. Essentially, we find the direction in which we must change each input image pixel to maximize the loss, and we give the image's pixels a slight nudge in that direction. We get a new image, $I_{perturbed}$, that the network misclassifies.\n",
    "\n",
    "The scary part is that $I_{perturbed}$ contains tiny, imperceptible changes relative to $I$; to the human eye, $I$ and $I_{perturbed}$ visually look like the same image. Yet, the model perceives these two images completely differently.\n",
    "\n",
    "\n",
    "#### Implementation\n",
    "\n",
    "Below is a loop that loads the baseline model and sends images through it one by one. When it classifies an image correctly, you will create an adversarial image and see if you can fool the network into misclassifying it.\n",
    "\n",
    "\n",
    "For each correctly classified image, we need the gradient of the loss with respect to the image: $G = \\frac{\\partial_{loss}}{\\partial_{I}}$. We use this to create a matrix $\\alpha$ (defined below) of perturbations and add it to the original image:\n",
    "\n",
    "$$I_{perturbed} = I + \\alpha$$\n",
    "\n",
    "$\\alpha$ and $G$ have the same dimensions. $\\alpha$ is a matrix where the absolute value of each element is a small $\\epsilon$, yet the _sign_ (positive or negative) of $\\alpha[i,j]$ is equal to the _sign_ of $G[i,j]$. This makes sense: if the gradient value at some pixel is  negative, then you want to follow that negative slope and add negative noise value to your original image.\n",
    "\n",
    "\n",
    "### **<font color=\"red\">TODO [code]: </font>**\n",
    "Complete the `get_adversarial` in `student.py`. Run the cells below. Your function should get **at least 85% of adversarial images misclassified** with an `epsilon=0.02`.\n",
    "\n",
    "### **<font color=\"red\">TODO [writeup] 4: </font>**\n",
    "Include 3 adversarial image plots from the cells below in your writeup: one with `epsilon=0.005`, one with `epsilon=0.02`, and one with `epsilon=0.15`. As you increase epsilon, what happens to the misclassification rate? Why?"
   ]
  },
  {
   "cell_type": "code",
   "execution_count": null,
   "metadata": {},
   "outputs": [],
   "source": [
    "%aimport student\n",
    "\n",
    "# Load pretrained baseline model\n",
    "net          = student.AnimalBaselineNet()\n",
    "weights_path = os.path.join('.', 'models', 'baseline.pth')\n",
    "net.load_state_dict(torch.load(weights_path, map_location=\"cpu\"))\n",
    "\n",
    "# Specify parameters for forward pass\n",
    "# Don't normalize images for purpose of visualization\n",
    "transform = transforms.Compose([\n",
    "            transforms.ToTensor()\n",
    "        ])\n",
    "val_dataset    = AnimalDataset(os.path.join('.', 'data', 'val'),  classes, transform=transform)\n",
    "val_dataloader = DataLoader(val_dataset, batch_size=1, shuffle=True)\n",
    "\n",
    "criterion = nn.CrossEntropyLoss()\n",
    "epsilon = 0.02\n",
    "\n",
    "original_imgs      = []\n",
    "original_preds     = []\n",
    "\n",
    "adversarial_imgs   = []\n",
    "adversarial_preds  = []\n",
    "adversarial_noises = []\n",
    "\n",
    "\n",
    "for i, (img, label) in enumerate(val_dataloader):\n",
    "    \n",
    "    # Set image tensor so gradient is calculated\n",
    "    img.requires_grad = True\n",
    "    \n",
    "    output = net(img)\n",
    "\n",
    "    init_pred = output.max(1, keepdim=True)[1]\n",
    "    \n",
    "    if init_pred == label:\n",
    "        # Image classified correctly; generate adversarial image\n",
    "        perturbed_img, noise = student.get_adversarial(img, output, label[0], net, criterion, epsilon)\n",
    "    \n",
    "        adversarial_output = net(perturbed_img)\n",
    "        adversarial_pred   = adversarial_output.max(1, keepdim=True)[1]\n",
    "\n",
    "        original_imgs.append(to_pil(img.squeeze()))\n",
    "        original_preds.append(init_pred)\n",
    "        adversarial_imgs.append(to_pil(perturbed_img.squeeze()))\n",
    "        adversarial_preds.append(adversarial_pred)\n",
    "        adversarial_noises.append(to_pil(noise.squeeze()))\n",
    "    \n",
    "\n",
    "\n",
    "print(\"Out of total {} images generated, {} % of adversarial images misclassified\".format(\n",
    "    len(original_imgs),\n",
    "    round((torch.sum(torch.Tensor(original_preds) != torch.Tensor(adversarial_preds)).item())\n",
    "        / len(original_imgs) * 100., 4)))\n",
    "\n"
   ]
  },
  {
   "cell_type": "code",
   "execution_count": null,
   "metadata": {},
   "outputs": [],
   "source": [
    "num_desired_adversarial = 4\n",
    "\n",
    "fig, axs = plt.subplots(num_desired_adversarial, 3, figsize=(10,3*num_desired_adversarial))\n",
    "matplotlib.rcParams.update({'font.size': 14})\n",
    "\n",
    "\n",
    "for i in range(num_desired_adversarial):\n",
    "    ax = axs[i,0]\n",
    "    ax.set_title('Original: {}'.format(classes[original_preds[i]]))\n",
    "    ax.imshow(original_imgs[i])\n",
    "    \n",
    "    ax = axs[i,1]\n",
    "    ax.set_title('Adversarial Noise')\n",
    "    ax.imshow(adversarial_noises[i])\n",
    "    \n",
    "    ax = axs[i,2]\n",
    "    ax.set_title('Adversarial: {}'.format(classes[adversarial_preds[i]]))\n",
    "    ax.imshow(adversarial_imgs[i])\n",
    "    \n",
    "plt.tight_layout()\n",
    "plt.show()\n",
    "    "
   ]
  },
  {
   "cell_type": "markdown",
   "metadata": {
    "collapsed": true
   },
   "source": [
    "#### On a positive note...\n",
    "While this may seem like a dealbreaker for convolutional neural networks, a lot of research is being done on the topic of adversarial examples. People have been finding ways to make our networks more robust to adversarial attacks, and there's also a whole class of networks called Generative Adversarial Networks (GANs) that rely on the concept of adversarial actors to generate new, synthetic data for a given dataset.\n",
    "\n",
    "If you're interested in learning more about any of the topics in this project, please post on Piazza or ask in office hours and we'd be happy to share more resources :)\n",
    "\n",
    "\n",
    "### **<font color=\"red\">TODO [writeup] Feedback (not graded, but very appreciated): </font>**\n",
    "If you have any feedback on this assignment as a whole, please include! It is a new assignment, so we would love to hear your thoughts on it and how we can make it better next time around. Thanks!"
   ]
  },
  {
   "cell_type": "code",
   "execution_count": null,
   "metadata": {},
   "outputs": [],
   "source": []
  }
 ],
 "metadata": {
  "kernelspec": {
   "display_name": "Python 3",
   "language": "python",
   "name": "python3"
  },
  "language_info": {
   "codemirror_mode": {
    "name": "ipython",
    "version": 3
   },
   "file_extension": ".py",
   "mimetype": "text/x-python",
   "name": "python",
   "nbconvert_exporter": "python",
   "pygments_lexer": "ipython3",
   "version": "3.7.3"
  }
 },
 "nbformat": 4,
 "nbformat_minor": 2
}
